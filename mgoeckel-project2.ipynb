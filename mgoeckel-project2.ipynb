{
 "cells": [
  {
   "cell_type": "code",
   "execution_count": 17,
   "id": "d751dbbf-6e6d-4cde-aeb3-1a7bb261dba1",
   "metadata": {
    "tags": []
   },
   "outputs": [
    {
     "name": "stdout",
     "output_type": "stream",
     "text": [
      "1\n",
      "2\n",
      "3\n",
      "4\n",
      "5\n",
      "6\n",
      "7\n",
      "8\n",
      "9\n",
      "10\n",
      "11\n",
      "12\n",
      "13\n",
      "14\n",
      "15\n"
     ]
    }
   ],
   "source": [
    "loop = 1\n",
    "\n",
    "while loop <= 15:\n",
    "    print(loop)\n",
    "    loop += 1"
   ]
  },
  {
   "cell_type": "code",
   "execution_count": 14,
   "id": "c878b32b-ae49-48eb-b66b-feaf598758b3",
   "metadata": {},
   "outputs": [
    {
     "name": "stdout",
     "output_type": "stream",
     "text": [
      "1000001000000\n"
     ]
    }
   ],
   "source": [
    "#3.8 Check\n",
    "total = 0\n",
    "for i in range(1000001):\n",
    "    total = total + number\n",
    "    \n",
    "print(total)"
   ]
  },
  {
   "cell_type": "code",
   "execution_count": 15,
   "id": "aca34b14-eb3f-4da3-a0b2-05e4172dba78",
   "metadata": {},
   "outputs": [
    {
     "name": "stdout",
     "output_type": "stream",
     "text": [
      "144\n"
     ]
    }
   ],
   "source": [
    "#3.9 Check\n",
    "x = 12\n",
    "x **= 2\n",
    "print(x)"
   ]
  },
  {
   "cell_type": "code",
   "execution_count": 21,
   "id": "962816e4-3d66-4d3b-93d7-be4174cf9854",
   "metadata": {},
   "outputs": [
    {
     "name": "stdout",
     "output_type": "stream",
     "text": [
      "Class average is 81.7\n"
     ]
    }
   ],
   "source": [
    "#3.10\n",
    "#Initialize\n",
    "total = 0\n",
    "gradeCounter = 0\n",
    "grades = [98, 76, 71, 87, 83, 90, 57, 79, 82, 94]\n",
    "#Process\n",
    "for grade in grades:\n",
    "    total += grade\n",
    "    gradeCounter += 1\n",
    "#Terminate\n",
    "average = total / gradeCounter\n",
    "print(f'Class average is {average}')"
   ]
  },
  {
   "cell_type": "code",
   "execution_count": 23,
   "id": "eb057345-27df-4b65-9318-034cb6a631ac",
   "metadata": {},
   "outputs": [
    {
     "name": "stdout",
     "output_type": "stream",
     "text": [
      "50 60 70 80 90 100 "
     ]
    }
   ],
   "source": [
    "#Range test 1\n",
    "for i in range(50, 101, 10):\n",
    "    print(i, end=' ')"
   ]
  },
  {
   "cell_type": "code",
   "execution_count": 27,
   "id": "4e912cb8-ca5a-44ed-8d8e-a19b55fadb4d",
   "metadata": {},
   "outputs": [
    {
     "name": "stdout",
     "output_type": "stream",
     "text": [
      "2 to the 0 power is 4\n",
      "2 to the 1 power is 8\n",
      "2 to the 2 power is 16\n",
      "2 to the 3 power is 32\n",
      "2 to the 4 power is 64\n",
      "2 to the 5 power is 128\n",
      "2 to the 6 power is 256\n",
      "2 to the 7 power is 512\n",
      "2 to the 8 power is 1024\n",
      "2 to the 9 power is 2048\n"
     ]
    }
   ],
   "source": [
    "#Range test 2\n",
    "num = 2\n",
    "for i in range(10):\n",
    "    num *= 2\n",
    "    print(\"2 to the \" + str(i) + \" power is \" + str(num))"
   ]
  },
  {
   "cell_type": "code",
   "execution_count": 32,
   "id": "515b0261-56b0-471a-a0e1-bd2a8592b1c9",
   "metadata": {},
   "outputs": [
    {
     "name": "stdout",
     "output_type": "stream",
     "text": [
      "This should print 7 times\n",
      "This should print 7 times\n",
      "This should print 7 times\n",
      "This should print 7 times\n",
      "This should print 7 times\n",
      "This should print 7 times\n",
      "This should print 7 times\n",
      "The code got here\n"
     ]
    }
   ],
   "source": [
    "for i in range(10):\n",
    "    if i == 7:\n",
    "        break\n",
    "        print(\"This shouldn't print\")\n",
    "    print(\"This should print 7 times\")    \n",
    "    \n",
    "        \n",
    "print(\"The end\")"
   ]
  },
  {
   "cell_type": "code",
   "execution_count": 33,
   "id": "22c6719c-adf0-451e-99c1-a011d99d93fc",
   "metadata": {},
   "outputs": [
    {
     "name": "stdout",
     "output_type": "stream",
     "text": [
      "0\n",
      "1\n",
      "2\n",
      "3\n",
      "4\n",
      "5\n",
      "6\n",
      "7\n",
      "8\n",
      "9\n",
      "11\n",
      "12\n",
      "13\n",
      "14\n"
     ]
    }
   ],
   "source": [
    "for i in range(15):\n",
    "    if i == 10:\n",
    "        continue\n",
    "    print(i)"
   ]
  },
  {
   "cell_type": "code",
   "execution_count": 36,
   "id": "9d60d70a-c0bc-4098-9c3d-40a19da7456d",
   "metadata": {},
   "outputs": [
    {
     "data": {
      "text/plain": [
       "True"
      ]
     },
     "execution_count": 36,
     "metadata": {},
     "output_type": "execute_result"
    }
   ],
   "source": [
    "#3.16 Check\n",
    "i = 1\n",
    "j = 2\n",
    "k = 3\n",
    "m = 4\n",
    "(i >= 1) and (j < 4)"
   ]
  },
  {
   "cell_type": "code",
   "execution_count": 37,
   "id": "54b412b4-db06-4e75-87c6-f908288c9ca2",
   "metadata": {},
   "outputs": [
    {
     "data": {
      "text/plain": [
       "True"
      ]
     },
     "execution_count": 37,
     "metadata": {},
     "output_type": "execute_result"
    }
   ],
   "source": [
    "(m <=99) and (k<m)"
   ]
  },
  {
   "cell_type": "code",
   "execution_count": 38,
   "id": "d17ccefe-0488-43c0-b13d-fcdeaa344d54",
   "metadata": {},
   "outputs": [
    {
     "data": {
      "text/plain": [
       "True"
      ]
     },
     "execution_count": 38,
     "metadata": {},
     "output_type": "execute_result"
    }
   ],
   "source": [
    "(j >= i) or (k == m)"
   ]
  },
  {
   "cell_type": "code",
   "execution_count": 39,
   "id": "55fe910f-2edd-40c5-96a6-6cbcc0fa98b5",
   "metadata": {},
   "outputs": [
    {
     "data": {
      "text/plain": [
       "False"
      ]
     },
     "execution_count": 39,
     "metadata": {},
     "output_type": "execute_result"
    }
   ],
   "source": [
    "(k + m < j) or (3 - j >= k)"
   ]
  },
  {
   "cell_type": "code",
   "execution_count": 40,
   "id": "89b16fc4-a22c-4b3c-a229-cb63bd6d2286",
   "metadata": {},
   "outputs": [
    {
     "data": {
      "text/plain": [
       "True"
      ]
     },
     "execution_count": 40,
     "metadata": {},
     "output_type": "execute_result"
    }
   ],
   "source": [
    "not (k > m)"
   ]
  },
  {
   "cell_type": "code",
   "execution_count": 45,
   "id": "c711b942-fd40-4295-b57b-1ba880bc460e",
   "metadata": {},
   "outputs": [
    {
     "data": {
      "text/plain": [
       "5"
      ]
     },
     "execution_count": 45,
     "metadata": {},
     "output_type": "execute_result"
    }
   ],
   "source": [
    "grades = [85, 93, 45, 89, 85]\n",
    "len(grades)"
   ]
  },
  {
   "cell_type": "code",
   "execution_count": 46,
   "id": "96cbfb6e-0c4c-4796-9fd9-5ea3c2e127ea",
   "metadata": {},
   "outputs": [
    {
     "data": {
      "text/plain": [
       "397"
      ]
     },
     "execution_count": 46,
     "metadata": {},
     "output_type": "execute_result"
    }
   ],
   "source": [
    "sum(grades)"
   ]
  },
  {
   "cell_type": "code",
   "execution_count": 47,
   "id": "76ac7646-11c3-482a-a48d-acc47d522147",
   "metadata": {},
   "outputs": [
    {
     "data": {
      "text/plain": [
       "79.4"
      ]
     },
     "execution_count": 47,
     "metadata": {},
     "output_type": "execute_result"
    }
   ],
   "source": [
    "sum(grades)/len(grades)"
   ]
  },
  {
   "cell_type": "code",
   "execution_count": 50,
   "id": "df22b0fa-e64e-437d-a1b9-ea160a3a3814",
   "metadata": {},
   "outputs": [
    {
     "data": {
      "text/plain": [
       "79.4"
      ]
     },
     "execution_count": 50,
     "metadata": {},
     "output_type": "execute_result"
    }
   ],
   "source": [
    "import statistics\n",
    "statistics.mean(grades)"
   ]
  },
  {
   "cell_type": "code",
   "execution_count": 51,
   "id": "da90f0ab-7cd7-4cbb-ba8e-adc2e70db11c",
   "metadata": {},
   "outputs": [
    {
     "data": {
      "text/plain": [
       "85"
      ]
     },
     "execution_count": 51,
     "metadata": {},
     "output_type": "execute_result"
    }
   ],
   "source": [
    "statistics.median(grades)"
   ]
  },
  {
   "cell_type": "code",
   "execution_count": 52,
   "id": "94daffe7-76c0-4851-bcd0-7cc65c98ee47",
   "metadata": {},
   "outputs": [
    {
     "data": {
      "text/plain": [
       "85"
      ]
     },
     "execution_count": 52,
     "metadata": {},
     "output_type": "execute_result"
    }
   ],
   "source": [
    "statistics.mode(grades)"
   ]
  },
  {
   "cell_type": "code",
   "execution_count": 57,
   "id": "f1457d41-7669-4f96-b298-947c0f7483f5",
   "metadata": {},
   "outputs": [
    {
     "data": {
      "text/plain": [
       "7"
      ]
     },
     "execution_count": 57,
     "metadata": {},
     "output_type": "execute_result"
    }
   ],
   "source": [
    "#Data set for ounces of water drank in the last week\n",
    "water = [152, 152, 112, 130, 120, 106, 104]\n",
    "#Count number of days\n",
    "len(water)"
   ]
  },
  {
   "cell_type": "code",
   "execution_count": 55,
   "id": "066ca802-fa01-42d3-8185-88f68b2ef8a1",
   "metadata": {},
   "outputs": [
    {
     "data": {
      "text/plain": [
       "876"
      ]
     },
     "execution_count": 55,
     "metadata": {},
     "output_type": "execute_result"
    }
   ],
   "source": [
    "#Count total water drank\n",
    "sum(water)"
   ]
  },
  {
   "cell_type": "code",
   "execution_count": 58,
   "id": "adca63cc-c3a6-440b-8ca7-1f50a7dcf5e3",
   "metadata": {},
   "outputs": [
    {
     "data": {
      "text/plain": [
       "125.14285714285714"
      ]
     },
     "execution_count": 58,
     "metadata": {},
     "output_type": "execute_result"
    }
   ],
   "source": [
    "#Average water per day\n",
    "statistics.mean(water)"
   ]
  },
  {
   "cell_type": "code",
   "execution_count": 60,
   "id": "872af0ea-df25-46b8-858b-18517226643a",
   "metadata": {},
   "outputs": [
    {
     "data": {
      "text/plain": [
       "120"
      ]
     },
     "execution_count": 60,
     "metadata": {},
     "output_type": "execute_result"
    }
   ],
   "source": [
    "#Median water per day\n",
    "statistics.median(water)"
   ]
  },
  {
   "cell_type": "code",
   "execution_count": 62,
   "id": "6048cca5-168d-418e-be76-35ab6bf6e1b2",
   "metadata": {},
   "outputs": [
    {
     "data": {
      "text/plain": [
       "152"
      ]
     },
     "execution_count": 62,
     "metadata": {},
     "output_type": "execute_result"
    }
   ],
   "source": [
    "#Most common amount drank\n",
    "statistics.mode(water)"
   ]
  }
 ],
 "metadata": {
  "kernelspec": {
   "display_name": "Python 3 (ipykernel)",
   "language": "python",
   "name": "python3"
  },
  "language_info": {
   "codemirror_mode": {
    "name": "ipython",
    "version": 3
   },
   "file_extension": ".py",
   "mimetype": "text/x-python",
   "name": "python",
   "nbconvert_exporter": "python",
   "pygments_lexer": "ipython3",
   "version": "3.9.12"
  }
 },
 "nbformat": 4,
 "nbformat_minor": 5
}
